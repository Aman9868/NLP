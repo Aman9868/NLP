{
 "cells": [
  {
   "cell_type": "code",
   "execution_count": 3,
   "metadata": {},
   "outputs": [],
   "source": [
    "import nltk\n",
    "from nltk.stem import PorterStemmer\n",
    "from nltk.corpus import stopwords\n",
    "from nltk.stem import WordNetLemmatizer"
   ]
  },
  {
   "cell_type": "markdown",
   "metadata": {},
   "source": [
    "# Stemming#"
   ]
  },
  {
   "cell_type": "code",
   "execution_count": 2,
   "metadata": {},
   "outputs": [
    {
     "name": "stdout",
     "output_type": "stream",
     "text": [
      "['As earli june 2020 , number case confirm covid-19 global 7 million affect virtual everi territori , isol south pacif island state antarctica , accord onlin viru tracker creat medic journal , the lancet , host john hopkin univers 5 .', 'As june 2020 , unit state 1.9 million case , six countri > 200,000 case 5 .', 'NB : surveil method capac vari dramat countri .', 'presymptomat carrier may present mani commun presymptomat transmiss document ; asymptomat carrier uncommonli report asymptomat transmiss document ( may 2020 ) 113 .', 'the R0 ( basic reproduct number ) sars-cov-2 estim 2.2 3.28 non-lockdown popul , infect individu , averag , caus 2-3 new infect 12,33 .', 'the incub period covid-19 initi calcul five day , base 10 patient 12 .', 'An american group perform epidemiolog analysi 181 case , day exposur symptom onset could estim accur .', 'they calcul median incub period 5.1 day , 97.5 % becam symptomat within 11.5 day ( CI 8.2 15.6 day ) infect , extend cohort 99th percentil result almost case develop symptom 14 day exposur sars-cov-2 92 .', 'As june 2020 number death covid-19 excess 400,000 global 5 .', 'the case fatal rate ~2-3 % 5,93 .', 'It specul true case fatal rate lower mani mild/asymptomat case test , thu skew appar death rate upward 93 .', 'A paper publish chines center diseas control prevent ( ccdc ) analyz 44,672 case diagnos 11 februari 2020 .', \"Of , ~1 % asymptomat , ~80 % class `` mild '' 25 .\", 'anoth studi look clinic characterist covid-19 posit test close contact covid-19 patient 81 .', 'approxim 30 % covid-19 posit close contact never develop symptom chang chest CT scan .', 'the remaind show chang CT , ~20 % reportedli develop symptom hospit cours , none develop sever diseas 81 .', 'thi suggest high percentag covid-19 carrier asymptomat .', 'In chines popul , 55-60 % % covid-19 patient male ; median age report 47 59 year 12,93 .', 'NB : import appreci known epidemiolog paramet new diseas like chang larger cohort infect peopl studi , although extent reflect true chang underli realiti diseas activ ( diseas studi understood human simultan chang behavior alter transmiss preval pattern covid-19 suffer report high rate disturb smell tast , includ anosmia , hyposmia , ageusia , dysgeusia .', 'the number patient affect vari current evid point toward neurolog conduct caus olfactori dysfunct 79,98,105-107,139 .', 'variou report suggest patient diseas may symptom conjunct , affect , may posit viral pcr conjunctiv fluid 103,104 .', 'howev meta-analysi 1,100 patient found conjunct present 1.1 % case 140 .', 'A small case seri found conjunct clinic manifest patient covid-19 141 .', 'A recent report suggest cutan lesion may also seen , similar mani viral infect .', 'In cohort 88 patient , 20 % develop skin diseas , commonli erythemat rash .', 'most skin abnorm self-limit , resolv day .', 'In main , clinic present children covid-19 milder adult 59,90 .', 'symptom similar acut chest infect , encompass commonli pyrexia , dri cough , sore throat , sneez , myalgia lethargi .', 'wheez also note 59,90 .', 'other less common ( < 10 % ) symptom children includ diarrhea , lethargi , rhinorrhea vomit 91 .', 'the definit test sars-cov-2 real-tim revers transcriptase-polymeras chain reaction ( rt-pcr ) test .', 'It believ highli specif , sensit report low 60-70 % 32 high 95-97 % 56 .', 'meta-analysi report pool sensit rt-pcr 89 % 116 .', 'thu , fals neg real clinic problem , sever neg test might requir singl case confid exclud diseas .', 'it sensit predic time sinc exposur sars-cov-2 , fals neg rate 100 % first day exposur , drop 67 % fourth day .', 'On day symptom onset ( ~4 day exposur ) fals neg rate remain 38 % , reach nadir 20 % three day symptom begin ( 8 day post exposur ) .', 'from point , fals neg rate start climb reach 66 % day 21 exposur 138 .', 'multipl radiolog organ learn societi state CT reli upon diagnostic/screen tool covid-19 52,57,87,88,116 .', 'On 16 march 2020 , american-singaporean panel publish CT find part diagnost criteria covid-19 56 .', 'howev , CT find use controversi surrog diagnost test 2,32,89']\n"
     ]
    }
   ],
   "source": [
    "#STEMMING CONVERTS THE WORDS INTO MOST SUITABLE PATTERN OR WORD WHICH ARE SIMLIAR BUT THE MEANING IS NOT MEANINGFUL IN STEMMING:\n",
    "#LIKE early,earliest,earlier converted into :earl\n",
    "#LIKE crazy,craziest,craziness converted into :craz\n",
    "\n",
    "\n",
    "covid19 = \"\"\"As of early June 2020, the number of cases of confirmed COVID-19 globally is over 7 million affecting virtually every territory, other than isolated South Pacific island states and Antarctica, according to an online virus tracker created by the medical journal, The Lancet, and hosted by Johns Hopkins University 5. As of June 2020, the United States had more than 1.9 million cases, with more than six other countries with >200,000 cases 5. \n",
    "NB: Surveillance methods and capacity vary dramatically between countries. Presymptomatic carriers may be present in many communities and presymptomatic transmission has been documented; asymptomatic carriers have been uncommonly reported and no asymptomatic transmission has been documented (May 2020) 113.\n",
    "The R0 (basic reproduction number) of SARS-CoV-2 has been estimated between 2.2 and 3.28 in a non-lockdown population, that is each infected individual, on average, causes between 2-3 new infections 12,33. \n",
    "The incubation period for COVID-19 was initially calculated to be about five days, which was based on 10 patients only 12. An American group performed an epidemiological analysis of 181 cases, for which days of exposure and symptom onset could be estimated accurately. They calculated a median incubation period of 5.1 days, that 97.5% became symptomatic within 11.5 days (CI 8.2 to 15.6 days) of being infected, and that extending the cohort to the 99th percentile results in almost all cases developing symptoms in 14 days after exposure to SARS-CoV-2 92.\n",
    "As of June 2020 the number of deaths from COVID-19 is in excess of 400,000 globally 5. The case fatality rate is ~2-3% 5,93. It is speculated that the true case fatality rate is lower than this because many mild/asymptomatic cases are not being tested, which thus skews the apparent death rate upwards 93.\n",
    "A paper published by the Chinese Center for Disease Control and Prevention (CCDC) analyzed all 44,672 cases diagnosed up to 11 February 2020. Of these, ~1% were asymptomatic, and ~80% were classed as \"mild\" 25. \n",
    "Another study looked at clinical characteristics in COVID-19 positively tested close contacts of COVID-19 patients 81. Approximately 30% of those COVID-19 positive close contacts never developed any symptoms or changes on chest CT scans. The remainder showed changes in CT, but ~20% reportedly developed symptoms during their hospital course, none of them developed severe disease 81. This suggests that a high percentage of COVID-19 carriers are asymptomatic.\n",
    "In the Chinese population, 55-60%% of COVID-19 patients were male; the median age has been reported between 47 and 59 years 12,93.\n",
    "NB: it is important to appreciate that the known epidemiological parameters of any new disease are likely to change as larger cohorts of infected people are studied, although this will only to some extent reflect a true change in the underlying reality of disease activity (as a disease is studied and understood humans will be simultaneously changing their behaviors to alter transmission or prevalence patterns\n",
    "COVID-19 sufferers have reported high rates of disturbances of smell and taste, including anosmia, hyposmia, ageusia, and dysgeusia. The numbers of patients affected vary and current evidence points more towards a neurological than a conductive cause of the olfactory dysfunction 79,98,105-107,139. \n",
    "Various reports suggest patients with the disease may have symptoms of conjunctivitis, and those affected, may have positive viral PCR in their conjunctival fluid 103,104. However a meta-analysis of over 1,100 patients found that conjunctivitis was only present in 1.1% cases 140. A small case series found conjunctivitis to be the only clinical manifestation in some patients with COVID-19 141.\n",
    "A recent report suggests that cutaneous lesions may also be seen, similar to many other viral infections. In a cohort of 88 patients, 20% developed skin disease, most commonly an erythematous rash. Most of the skin abnormalities were self-limited, resolving in a few days.\n",
    "In the main, the clinical presentation in children with COVID-19 is milder than in adults 59,90. Symptoms are similar to any acute chest infection, encompassing most commonly pyrexia, dry cough, sore throat, sneezing, myalgia and lethargy. Wheezing has also been noted 59,90. Other less common (<10%) symptoms in children included diarrhea, lethargy, rhinorrhea and vomiting 91.\n",
    "The definitive test for SARS-CoV-2 is the real-time reverse transcriptase-polymerase chain reaction (RT-PCR) test. It is believed to be highly specific, but with sensitivity reported as low as 60-70% 32 and as high as 95-97% 56. Meta-analysis has reported the pooled sensitivity of RT-PCR to be 89% 116. Thus, false negatives are a real clinical problem, and several negative tests might be required in a single case to be confident about excluding the disease.\n",
    "Its sensitivity is predicated on time since exposure to SARS-CoV-2, with a false negative rate of 100% on the first day after exposure, dropping to 67% on the fourth day. On the day of symptom onset (~4 days after exposure) the false negative rate remains at 38%, and it reaches its nadir of 20% three days after symptoms begin (8 days post exposure). From this point on, the false negative rate starts to climb again reaching 66% on day 21 after exposure 138.\n",
    "Multiple radiological organizations and learned societies have stated that CT should not be relied upon as a diagnostic/screening tool for COVID-19 52,57,87,88,116. On 16 March 2020, an American-Singaporean panel published that CT findings were not part of the diagnostic criteria for COVID-19 56. However, CT findings have been used controversially as a surrogate diagnostic test by some 2,32,89\"\"\"\n",
    "\n",
    "# Tokenizing sentences\n",
    "sentences = nltk.sent_tokenize(covid19)\n",
    "\n",
    "stemmer = PorterStemmer()\n",
    "\n",
    "# Stemming\n",
    "for i in range(len(sentences)):\n",
    "    words = nltk.word_tokenize(sentences[i])\n",
    "    words = [stemmer.stem(word) for word in words if word not in set(stopwords.words('english'))]\n",
    "    sentences[i] = ' '.join(words) \n",
    "    \n",
    "print(sentences)    "
   ]
  },
  {
   "cell_type": "markdown",
   "metadata": {},
   "source": [
    "# LEMMATIZATION#"
   ]
  },
  {
   "cell_type": "code",
   "execution_count": 9,
   "metadata": {},
   "outputs": [
    {
     "name": "stdout",
     "output_type": "stream",
     "text": [
      "['CoVID-19 started infecting people city Wuhan , China mid-December 2019 .', 'Within month , ten thousand people infected hundred died .', 'The death rate 16 % first two week reduced 4 % mid-February currently stand 2 % .', 'The initial outbreak caused many people die would survived received medical treatment .', 'Unfortunately , Wuhan medical system unable treat extremely large number seriously ill people seeking help .', 'Simply put , large number seriously ill people greatly exceeded hospital capacity .', 'Consequently , many people needed basic care dehydration fever could find care .', 'China report death rate 0.7 % outside Hubei Province .', 'A death rate 2 % 13 time greater incidence death seasonal flu .', 'During last flu season , 2018/2019 , CDC report 35 million Americans caught flu 56,000 people died establishing death rate 0.15 % .', 'If number Americans , 35 million , became infected CoVID-19 death rate actually 2 % , CoVID-19 could responsible 700,000 death .', 'However , several reason believe death rate much le 2 % .', 'As 10 March 2020 , essay prepared , 100,000 confirmed case 4,000 death death rate 4 % ( includes data Wuhan ) .', 'Data many country reporting show 80 % infected people experience mild moderate symptom .', 'It likely large number infected people mild mild symptom represented data never felt sick .', 'The missing case skew death rate towards higher rate .', 'So , 2 % death rate probably high due “ non report ” people simply accounted data .', 'Th U.S. see anything like happened Wuhan , China following reason : 1 ) medical system prepared extent , hope ; 2 ) individually , time prepare ; 3 ) symptom infection vector CoVID-19 well fairly-well understood ; , 4 ) collective understanding threat hygiene vigilance slow spread putting le stress health system .', 'Regardless heard — even President telling people ok go work — prepare possible mandatory voluntary 14 day quarantine .', 'This requires least 14 day imprisoned house .', 'It possible likely office building , place work , church , child ’ school group activity cancelled closed period time .', 'It probable exposed CoVID-19 near future .', 'All virus composed small piece DNA , RNA .', 'You remember DNA , stuff made nucleic acid , Crick Watson , “ double-helix ” .', 'As remember , memory bank hold information necessary make — YOU .', 'A virus short piece DNA RNA , wrapped inside protein shell sometimes called envelope , “ enclosure structure ” .', 'The shape envelope quite diverse complex .', 'Some virus “ sticky ” remain spittle adhere surface like hand deli countertop .', 'You exposed sticky virus infected person sneeze cough .', 'There thousand million virus water/mucus droplet ( aka , “ spittle ” ) expelled sneeze cough .', 'You also exposed touch surface infected spittle landed like movie theater candy counter .', 'Some virus sticky float air released sneeze cough .', 'As could imagine , much contagious sticky kind .', 'Viruses capacity reproduce .', 'They duplicate drilling membrane living cell inserting piece DNA , RNA living cell .', 'Since 6 gazillion cell inside u — new virus many choose .', 'The inserted piece viral DNA RNA hijack human cell force make copy virus .', 'The human cell make many copy eventually dy release newly made virus .', 'The new virus inert .', 'They float around blood stream , climb aboard spittle launching pad inter-host joy ride , find another cell hijack .', 'CoVID-19 actually two name .', 'It given formal name using international convention go like .', 'CoVID-19 class virus known “ crown ” surface envelope .', 'The first definition Latin word “ corona ” crown — second definition “ beer lime ” .', 'It first identified Wuhan , China December 2019 .', 'So , formal name according convention , “ Corona Virus Identified 2019 ” .', 'That name long one liked saying , given nickname , “ CoVID-19 ” , use today .', 'CoVID-19 related virus caused Severe Acute Respiratory Syndrome ( SARS ) epidemic 2003/2004 .', 'That virus name , CoV-SARS , stood “ Corona Virus cause Severe Acute Respiratory Syndrome ” .', 'CoVID-19 ’ name “ CoV-SARS-2 ” , one us .', 'Our principle exposure CoVID-19 coming close contact infected person .', 'Typically , exposed someone close ( proximity , relationship ) cough sneeze either directly , clothing , surface later touch like iPhone .', 'Viruses dried spittle infected person found kitchen counter , doorknob , telephone , light switch , water faucet , handrail , computer keyboard etc .', 'The exact amount time virus survive dried spittle unknown .', 'Data suggests survive 2 7 day .', 'Viruses penetrate skin .', 'You become infected touch contaminated surface CoVID-19 take joy ride finger hand touch exposed body tissue , typically face like rubbing eye , poking nose , using fingernail get piece orange pulp stuck teeth .', 'I ’ say .', 'The frequent form virus transmission getting coughed sneezed , data suggests get infected touching contaminated surface 7 day surface became contaminated .', 'Once transferred body tissue , virus spread throughout body implement Dr. Evil-like master plan enslave cell force make many copy virus .', 'That right , think many “ Minnie Me ” evil doer .', 'Viruses around recorded human history .', 'They human parasite .', 'They extremely complex reproduce varied intricate strategy .', 'If anthropomorphize virus , would conclude extremely intelligent clever .', 'Some virus , HIV , incubate year inside host host becomes sick .', 'Some goofy virus , like common measles ( Rubeola ) German measles ( Rubella ) totally sticky infect host aerosol ( i.e. , floating air ) .', 'When infected person sneeze , virus spittle injected atmosphere .', 'Rubeola , non-sticky virus jump spittle float air someone come contact .', 'It stay suspended fairly long period time — like day .', 'On rare occasion people infected walking closed room infected person sneezed two day entered room .']\n"
     ]
    }
   ],
   "source": [
    "# LEMMATIZATION CONVERTS THE WORD INTO MEANINFUL IN SUCH A WAY THAT USERS CAN UNDERSTAND#\n",
    "#LIKE WORD final,finalized,finally converted into : final\n",
    "\n",
    "coronavirus=\"\"\"CoVID-19 started infecting people in the city of Wuhan, China in mid-December of 2019. Within a month, more than ten thousand people were infected and hundreds had died. The death rate was about 16% in the first two weeks but reduced to about 4% by mid-February and currently stands at about 2%. The initial outbreak caused many people to die who would have survived if they had received medical treatment. Unfortunately, the Wuhan medical system was unable to treat the extremely large number of seriously ill people seeking help. Simply put, the large number of seriously ill people greatly exceeded hospital capacity. Consequently, many people who needed basic care for dehydration and fever could not find care. China now reports a death rate of 0.7% outside of Hubei Province.\n",
    "A death rate of 2% is about 13 times greater than the incidence of death from seasonal flu. During the last flu season, 2018/2019, CDC reports 35 million Americans caught the flu and about 56,000 people died establishing a death rate of 0.15%. If the same number of Americans, 35 million, became infected with CoVID-19 and the death rate was actually 2%, CoVID-19 could be responsible for 700,000 deaths. However, there are several reasons to believe that the death rate is much less than 2%.\n",
    "As of 10 March 2020, when this essay was prepared, there were about 100,000 confirmed cases and about 4,000 deaths for a death rate of 4% (but this includes the data from Wuhan). Data from many countries now reporting show that about 80% of infected people experience mild to moderate symptoms. It is likely that a large number of infected people with mild or very mild symptoms are not represented in the data because they never felt sick. The missing cases skew the death rate towards a higher rate. So, the 2% death rate is probably high due to the “non reports” of people simply not accounted for in the data.\n",
    "Th U.S. will not see anything like what happened in Wuhan, China for the following reasons: 1) our medical systems are prepared to some extent, we hope; 2) individually, we have had time to prepare; 3) the symptoms and infection vector of CoVID-19 is well fairly-well understood; and, 4) our collective understanding of the threat and hygiene vigilance will slow the spread putting less stress on our health systems.\n",
    "Regardless of what you have heard — even the President telling people it is ok to go to work — we should prepare for a possible mandatory or voluntary 14 day quarantine. This requires at least 14 days imprisoned in your house. It is possible or likely that your office building, place of work, church, your children’s school or other group activities will be cancelled or closed for a period of time. It is more probable than not that you will be exposed to CoVID-19 in the near future.\n",
    "All viruses are composed of a small piece of DNA, RNA or both. You remember DNA, the stuff made from nucleic acids, Crick and Watson, “double-helix”. As you remember, it is the memory bank that holds all the information necessary to make you — YOU. A virus is a short piece of DNA or RNA, or both wrapped inside a protein shell sometimes called an envelope, or just “enclosure structure”. The shape of the envelope is quite diverse and can be very complex.\n",
    "Some viruses are very “sticky” and remain in spittle and adhere to surfaces like your hand or the deli countertop. You are exposed to sticky viruses when an infected person sneezes or coughs on you. There are thousands or millions of viruses in the water/mucus droplets (aka, “spittle”) expelled in a sneeze or cough. You are also exposed if you touch a surface where infected spittle landed like the movie theater candy counter. Some viruses are not sticky but can float in the air after being released in a sneeze or cough. As you could imagine, these are much more contagious than the sticky kind.\n",
    "Viruses do not have the capacity to reproduce by themselves. They duplicate by drilling through the membrane of a living cell and inserting their piece of DNA, RNA or both into that living cell. Since there are about 6 gazillion cells inside each of us — new viruses have many to choose from.\n",
    "The inserted piece of viral DNA or RNA then hijacks the human cell and forces it to make copies of the virus. The human cell makes many copies before it eventually dies and releases all of the newly made viruses. The new viruses are inert. They just float around in your blood stream, or climb aboard the spittle launching pad for an inter-host joy ride, until they find another cell to hijack.\n",
    "CoVID-19 actually has two names. It was given a formal name using international conventions that go like this. CoVID-19 is in the class of viruses known for having “crowns” on the surface of their envelopes. The first definition of the Latin word “corona” is crown — the second definition is “beer with lime”. It was first identified in Wuhan, China in December 2019. So, its formal name according to convention is, “Corona Virus Identified in 2019”. That name was too long and no one liked saying it, so it was given the nickname, “CoVID-19”, that we all use today.\n",
    "CoVID-19 is related to the virus that caused the Severe Acute Respiratory Syndrome (SARS) epidemic in 2003/2004. That virus had the name, CoV-SARS, which stood for “Corona Virus that causes Severe Acute Respiratory Syndrome”. CoVID-19’s other name is “CoV-SARS-2”, but no one uses it.\n",
    "Our principle exposure to CoVID-19 is coming into close contact with an infected person. Typically, you are exposed when someone close to you (as in proximity, not as in relationship) coughs or sneezes either directly on you, your clothing, or on a surface that you later touch like your iPhone. Viruses in dried spittle from an infected person can be found on kitchen counters, doorknobs, telephones, light switches, water faucets, handrails, computer keyboards etc. The exact amount of time the virus can survive in dried spittle is unknown. Data suggests it can survive from 2 to 7 days. Viruses cannot penetrate your skin. You become infected when you touch the contaminated surface and CoVID-19 takes a joy ride on your finger or hand until you touch exposed body tissue, typically on your face like rubbing your eyes, poking your nose, or using your fingernail to get that piece of orange pulp stuck between your teeth. I’ll say it again. The most frequent form of virus transmission is by getting coughed or sneezed on, and data suggests that you can get infected from touching a contaminated surface for up to 7 days after the surface became contaminated.\n",
    "Once transferred to your body tissue, the virus spreads throughout your body and implements a Dr. Evil-like master plan to enslave your cells and force them to make many copies of the virus. That is right, think of many “Minnie Me” evil doers.\n",
    "Viruses have been around through all recorded human history. They are a human parasite. They are extremely complex and reproduce by varied and intricate strategies. If we were to anthropomorphize viruses, we would conclude that they are extremely intelligent or clever. Some viruses, such as HIV, incubate for years inside their host before the host becomes sick. Some goofy viruses, like common measles (Rubeola) and German measles (Rubella) are totally not sticky and infect other hosts as aerosols (i.e., floating on the air). When an infected person sneezes, the virus and the spittle are injected into the atmosphere. Rubeola, being a non-sticky virus jumps off of the spittle and floats on the air until someone comes into contact with it. It can stay suspended for a fairly long period of time — like days. On rare occasions people have been infected by walking into a closed room where an infected person sneezed two days before they entered the room.\"\"\"                \n",
    "\n",
    "# Tokenizing sentences\n",
    "sentence = nltk.sent_tokenize(coronavirus)\n",
    "\n",
    "lemmatizer = WordNetLemmatizer()\n",
    "\n",
    "# Lemmatization\n",
    "for i in range(len(sentence)):\n",
    "    words = nltk.word_tokenize(sentence[i])\n",
    "    words = [lemmatizer.lemmatize(word) for word in words if word not in set(stopwords.words('english'))]\n",
    "    sentence[i] = ' '.join(words) \n",
    "    \n",
    "print(sentence)    \n",
    "\n"
   ]
  },
  {
   "cell_type": "code",
   "execution_count": 11,
   "metadata": {},
   "outputs": [
    {
     "ename": "AttributeError",
     "evalue": "'list' object has no attribute 'value_counts'",
     "output_type": "error",
     "traceback": [
      "\u001b[1;31m---------------------------------------------------------------------------\u001b[0m",
      "\u001b[1;31mAttributeError\u001b[0m                            Traceback (most recent call last)",
      "\u001b[1;32m<ipython-input-11-afbb488e6fbd>\u001b[0m in \u001b[0;36m<module>\u001b[1;34m\u001b[0m\n\u001b[1;32m----> 1\u001b[1;33m \u001b[0msentence\u001b[0m\u001b[1;33m.\u001b[0m\u001b[0mvalue_counts\u001b[0m\u001b[1;33m(\u001b[0m\u001b[1;33m)\u001b[0m\u001b[1;33m\u001b[0m\u001b[1;33m\u001b[0m\u001b[0m\n\u001b[0m",
      "\u001b[1;31mAttributeError\u001b[0m: 'list' object has no attribute 'value_counts'"
     ]
    }
   ],
   "source": []
  }
 ],
 "metadata": {
  "kernelspec": {
   "display_name": "Python 3",
   "language": "python",
   "name": "python3"
  },
  "language_info": {
   "codemirror_mode": {
    "name": "ipython",
    "version": 3
   },
   "file_extension": ".py",
   "mimetype": "text/x-python",
   "name": "python",
   "nbconvert_exporter": "python",
   "pygments_lexer": "ipython3",
   "version": "3.7.6"
  }
 },
 "nbformat": 4,
 "nbformat_minor": 4
}

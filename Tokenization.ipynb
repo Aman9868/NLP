{
 "cells": [
  {
   "cell_type": "code",
   "execution_count": 1,
   "metadata": {},
   "outputs": [
    {
     "name": "stdout",
     "output_type": "stream",
     "text": [
      "showing info https://raw.githubusercontent.com/nltk/nltk_data/gh-pages/index.xml\n"
     ]
    },
    {
     "name": "stderr",
     "output_type": "stream",
     "text": [
      "[nltk_data] Downloading package punkt to\n",
      "[nltk_data]     C:\\Users\\98686\\AppData\\Roaming\\nltk_data...\n",
      "[nltk_data]   Package punkt is already up-to-date!\n"
     ]
    },
    {
     "data": {
      "text/plain": [
       "True"
      ]
     },
     "execution_count": 1,
     "metadata": {},
     "output_type": "execute_result"
    }
   ],
   "source": [
    "import nltk\n",
    "nltk.download()\n",
    "nltk.download('punkt')"
   ]
  },
  {
   "cell_type": "markdown",
   "metadata": {},
   "source": [
    "# TOKENIZATION OF PARAGRAPH INTO SENTENCE#"
   ]
  },
  {
   "cell_type": "code",
   "execution_count": 12,
   "metadata": {},
   "outputs": [
    {
     "name": "stdout",
     "output_type": "stream",
     "text": [
      "['As of early June 2020, the number of cases of confirmed COVID-19 globally is over 7 million affecting virtually every territory, other than isolated South Pacific island states and Antarctica, according to an online virus tracker created by the medical journal, The Lancet, and hosted by Johns Hopkins University 5.', 'As of June 2020, the United States had more than 1.9 million cases, with more than six other countries with >200,000 cases 5.', 'NB: Surveillance methods and capacity vary dramatically between countries.', 'Presymptomatic carriers may be present in many communities and presymptomatic transmission has been documented; asymptomatic carriers have been uncommonly reported and no asymptomatic transmission has been documented (May 2020) 113.', 'The R0 (basic reproduction number) of SARS-CoV-2 has been estimated between 2.2 and 3.28 in a non-lockdown population, that is each infected individual, on average, causes between 2-3 new infections 12,33.', 'The incubation period for COVID-19 was initially calculated to be about five days, which was based on 10 patients only 12.', 'An American group performed an epidemiological analysis of 181 cases, for which days of exposure and symptom onset could be estimated accurately.', 'They calculated a median incubation period of 5.1 days, that 97.5% became symptomatic within 11.5 days (CI 8.2 to 15.6 days) of being infected, and that extending the cohort to the 99th percentile results in almost all cases developing symptoms in 14 days after exposure to SARS-CoV-2 92.', 'As of June 2020 the number of deaths from COVID-19 is in excess of 400,000 globally 5.', 'The case fatality rate is ~2-3% 5,93.', 'It is speculated that the true case fatality rate is lower than this because many mild/asymptomatic cases are not being tested, which thus skews the apparent death rate upwards 93.', 'A paper published by the Chinese Center for Disease Control and Prevention (CCDC) analyzed all 44,672 cases diagnosed up to 11 February 2020.', 'Of these, ~1% were asymptomatic, and ~80% were classed as \"mild\" 25.', 'Another study looked at clinical characteristics in COVID-19 positively tested close contacts of COVID-19 patients 81.', 'Approximately 30% of those COVID-19 positive close contacts never developed any symptoms or changes on chest CT scans.', 'The remainder showed changes in CT, but ~20% reportedly developed symptoms during their hospital course, none of them developed severe disease 81.', 'This suggests that a high percentage of COVID-19 carriers are asymptomatic.', 'In the Chinese population, 55-60%% of COVID-19 patients were male; the median age has been reported between 47 and 59 years 12,93.', 'NB: it is important to appreciate that the known epidemiological parameters of any new disease are likely to change as larger cohorts of infected people are studied, although this will only to some extent reflect a true change in the underlying reality of disease activity (as a disease is studied and understood humans will be simultaneously changing their behaviors to alter transmission or prevalence patterns\\nCOVID-19 sufferers have reported high rates of disturbances of smell and taste, including anosmia, hyposmia, ageusia, and dysgeusia.', 'The numbers of patients affected vary and current evidence points more towards a neurological than a conductive cause of the olfactory dysfunction 79,98,105-107,139.', 'Various reports suggest patients with the disease may have symptoms of conjunctivitis, and those affected, may have positive viral PCR in their conjunctival fluid 103,104.', 'However a meta-analysis of over 1,100 patients found that conjunctivitis was only present in 1.1% cases 140.', 'A small case series found conjunctivitis to be the only clinical manifestation in some patients with COVID-19 141.', 'A recent report suggests that cutaneous lesions may also be seen, similar to many other viral infections.', 'In a cohort of 88 patients, 20% developed skin disease, most commonly an erythematous rash.', 'Most of the skin abnormalities were self-limited, resolving in a few days.', 'In the main, the clinical presentation in children with COVID-19 is milder than in adults 59,90.', 'Symptoms are similar to any acute chest infection, encompassing most commonly pyrexia, dry cough, sore throat, sneezing, myalgia and lethargy.', 'Wheezing has also been noted 59,90.', 'Other less common (<10%) symptoms in children included diarrhea, lethargy, rhinorrhea and vomiting 91.', 'The definitive test for SARS-CoV-2 is the real-time reverse transcriptase-polymerase chain reaction (RT-PCR) test.', 'It is believed to be highly specific, but with sensitivity reported as low as 60-70% 32 and as high as 95-97% 56.', 'Meta-analysis has reported the pooled sensitivity of RT-PCR to be 89% 116.', 'Thus, false negatives are a real clinical problem, and several negative tests might be required in a single case to be confident about excluding the disease.', 'Its sensitivity is predicated on time since exposure to SARS-CoV-2, with a false negative rate of 100% on the first day after exposure, dropping to 67% on the fourth day.', 'On the day of symptom onset (~4 days after exposure) the false negative rate remains at 38%, and it reaches its nadir of 20% three days after symptoms begin (8 days post exposure).', 'From this point on, the false negative rate starts to climb again reaching 66% on day 21 after exposure 138.', 'Multiple radiological organizations and learned societies have stated that CT should not be relied upon as a diagnostic/screening tool for COVID-19 52,57,87,88,116.', 'On 16 March 2020, an American-Singaporean panel published that CT findings were not part of the diagnostic criteria for COVID-19 56.', 'However, CT findings have been used controversially as a surrogate diagnostic test by some 2,32,89']\n"
     ]
    }
   ],
   "source": [
    "covid19 = \"\"\"As of early June 2020, the number of cases of confirmed COVID-19 globally is over 7 million affecting virtually every territory, other than isolated South Pacific island states and Antarctica, according to an online virus tracker created by the medical journal, The Lancet, and hosted by Johns Hopkins University 5. As of June 2020, the United States had more than 1.9 million cases, with more than six other countries with >200,000 cases 5. \n",
    "NB: Surveillance methods and capacity vary dramatically between countries. Presymptomatic carriers may be present in many communities and presymptomatic transmission has been documented; asymptomatic carriers have been uncommonly reported and no asymptomatic transmission has been documented (May 2020) 113.\n",
    "The R0 (basic reproduction number) of SARS-CoV-2 has been estimated between 2.2 and 3.28 in a non-lockdown population, that is each infected individual, on average, causes between 2-3 new infections 12,33. \n",
    "The incubation period for COVID-19 was initially calculated to be about five days, which was based on 10 patients only 12. An American group performed an epidemiological analysis of 181 cases, for which days of exposure and symptom onset could be estimated accurately. They calculated a median incubation period of 5.1 days, that 97.5% became symptomatic within 11.5 days (CI 8.2 to 15.6 days) of being infected, and that extending the cohort to the 99th percentile results in almost all cases developing symptoms in 14 days after exposure to SARS-CoV-2 92.\n",
    "As of June 2020 the number of deaths from COVID-19 is in excess of 400,000 globally 5. The case fatality rate is ~2-3% 5,93. It is speculated that the true case fatality rate is lower than this because many mild/asymptomatic cases are not being tested, which thus skews the apparent death rate upwards 93.\n",
    "A paper published by the Chinese Center for Disease Control and Prevention (CCDC) analyzed all 44,672 cases diagnosed up to 11 February 2020. Of these, ~1% were asymptomatic, and ~80% were classed as \"mild\" 25. \n",
    "Another study looked at clinical characteristics in COVID-19 positively tested close contacts of COVID-19 patients 81. Approximately 30% of those COVID-19 positive close contacts never developed any symptoms or changes on chest CT scans. The remainder showed changes in CT, but ~20% reportedly developed symptoms during their hospital course, none of them developed severe disease 81. This suggests that a high percentage of COVID-19 carriers are asymptomatic.\n",
    "In the Chinese population, 55-60%% of COVID-19 patients were male; the median age has been reported between 47 and 59 years 12,93.\n",
    "NB: it is important to appreciate that the known epidemiological parameters of any new disease are likely to change as larger cohorts of infected people are studied, although this will only to some extent reflect a true change in the underlying reality of disease activity (as a disease is studied and understood humans will be simultaneously changing their behaviors to alter transmission or prevalence patterns\n",
    "COVID-19 sufferers have reported high rates of disturbances of smell and taste, including anosmia, hyposmia, ageusia, and dysgeusia. The numbers of patients affected vary and current evidence points more towards a neurological than a conductive cause of the olfactory dysfunction 79,98,105-107,139. \n",
    "Various reports suggest patients with the disease may have symptoms of conjunctivitis, and those affected, may have positive viral PCR in their conjunctival fluid 103,104. However a meta-analysis of over 1,100 patients found that conjunctivitis was only present in 1.1% cases 140. A small case series found conjunctivitis to be the only clinical manifestation in some patients with COVID-19 141.\n",
    "A recent report suggests that cutaneous lesions may also be seen, similar to many other viral infections. In a cohort of 88 patients, 20% developed skin disease, most commonly an erythematous rash. Most of the skin abnormalities were self-limited, resolving in a few days.\n",
    "In the main, the clinical presentation in children with COVID-19 is milder than in adults 59,90. Symptoms are similar to any acute chest infection, encompassing most commonly pyrexia, dry cough, sore throat, sneezing, myalgia and lethargy. Wheezing has also been noted 59,90. Other less common (<10%) symptoms in children included diarrhea, lethargy, rhinorrhea and vomiting 91.\n",
    "The definitive test for SARS-CoV-2 is the real-time reverse transcriptase-polymerase chain reaction (RT-PCR) test. It is believed to be highly specific, but with sensitivity reported as low as 60-70% 32 and as high as 95-97% 56. Meta-analysis has reported the pooled sensitivity of RT-PCR to be 89% 116. Thus, false negatives are a real clinical problem, and several negative tests might be required in a single case to be confident about excluding the disease.\n",
    "Its sensitivity is predicated on time since exposure to SARS-CoV-2, with a false negative rate of 100% on the first day after exposure, dropping to 67% on the fourth day. On the day of symptom onset (~4 days after exposure) the false negative rate remains at 38%, and it reaches its nadir of 20% three days after symptoms begin (8 days post exposure). From this point on, the false negative rate starts to climb again reaching 66% on day 21 after exposure 138.\n",
    "Multiple radiological organizations and learned societies have stated that CT should not be relied upon as a diagnostic/screening tool for COVID-19 52,57,87,88,116. On 16 March 2020, an American-Singaporean panel published that CT findings were not part of the diagnostic criteria for COVID-19 56. However, CT findings have been used controversially as a surrogate diagnostic test by some 2,32,89\"\"\"\n",
    "\n",
    "# Tokenizing sentences\n",
    "sentences = nltk.sent_tokenize(covid19)\n",
    "print(sentences)\n",
    "\n"
   ]
  },
  {
   "cell_type": "code",
   "execution_count": 9,
   "metadata": {},
   "outputs": [
    {
     "name": "stdout",
     "output_type": "stream",
     "text": [
      "['As', 'of', 'early', 'June', '2020', ',', 'the', 'number', 'of', 'cases', 'of', 'confirmed', 'COVID-19', 'globally', 'is', 'over', '7', 'million', 'affecting', 'virtually', 'every', 'territory', ',', 'other', 'than', 'isolated', 'South', 'Pacific', 'island', 'states', 'and', 'Antarctica', ',', 'according', 'to', 'an', 'online', 'virus', 'tracker', 'created', 'by', 'the', 'medical', 'journal', ',', 'The', 'Lancet', ',', 'and', 'hosted', 'by', 'Johns', 'Hopkins', 'University', '5', '.', 'As', 'of', 'June', '2020', ',', 'the', 'United', 'States', 'had', 'more', 'than', '1.9', 'million', 'cases', ',', 'with', 'more', 'than', 'six', 'other', 'countries', 'with', '>', '200,000', 'cases', '5', '.', 'NB', ':', 'Surveillance', 'methods', 'and', 'capacity', 'vary', 'dramatically', 'between', 'countries', '.', 'Presymptomatic', 'carriers', 'may', 'be', 'present', 'in', 'many', 'communities', 'and', 'presymptomatic', 'transmission', 'has', 'been', 'documented', ';', 'asymptomatic', 'carriers', 'have', 'been', 'uncommonly', 'reported', 'and', 'no', 'asymptomatic', 'transmission', 'has', 'been', 'documented', '(', 'May', '2020', ')', '113', '.', 'The', 'R0', '(', 'basic', 'reproduction', 'number', ')', 'of', 'SARS-CoV-2', 'has', 'been', 'estimated', 'between', '2.2', 'and', '3.28', 'in', 'a', 'non-lockdown', 'population', ',', 'that', 'is', 'each', 'infected', 'individual', ',', 'on', 'average', ',', 'causes', 'between', '2-3', 'new', 'infections', '12,33', '.', 'The', 'incubation', 'period', 'for', 'COVID-19', 'was', 'initially', 'calculated', 'to', 'be', 'about', 'five', 'days', ',', 'which', 'was', 'based', 'on', '10', 'patients', 'only', '12', '.', 'An', 'American', 'group', 'performed', 'an', 'epidemiological', 'analysis', 'of', '181', 'cases', ',', 'for', 'which', 'days', 'of', 'exposure', 'and', 'symptom', 'onset', 'could', 'be', 'estimated', 'accurately', '.', 'They', 'calculated', 'a', 'median', 'incubation', 'period', 'of', '5.1', 'days', ',', 'that', '97.5', '%', 'became', 'symptomatic', 'within', '11.5', 'days', '(', 'CI', '8.2', 'to', '15.6', 'days', ')', 'of', 'being', 'infected', ',', 'and', 'that', 'extending', 'the', 'cohort', 'to', 'the', '99th', 'percentile', 'results', 'in', 'almost', 'all', 'cases', 'developing', 'symptoms', 'in', '14', 'days', 'after', 'exposure', 'to', 'SARS-CoV-2', '92', '.', 'As', 'of', 'June', '2020', 'the', 'number', 'of', 'deaths', 'from', 'COVID-19', 'is', 'in', 'excess', 'of', '400,000', 'globally', '5', '.', 'The', 'case', 'fatality', 'rate', 'is', '~2-3', '%', '5,93', '.', 'It', 'is', 'speculated', 'that', 'the', 'true', 'case', 'fatality', 'rate', 'is', 'lower', 'than', 'this', 'because', 'many', 'mild/asymptomatic', 'cases', 'are', 'not', 'being', 'tested', ',', 'which', 'thus', 'skews', 'the', 'apparent', 'death', 'rate', 'upwards', '93', '.', 'A', 'paper', 'published', 'by', 'the', 'Chinese', 'Center', 'for', 'Disease', 'Control', 'and', 'Prevention', '(', 'CCDC', ')', 'analyzed', 'all', '44,672', 'cases', 'diagnosed', 'up', 'to', '11', 'February', '2020', '.', 'Of', 'these', ',', '~1', '%', 'were', 'asymptomatic', ',', 'and', '~80', '%', 'were', 'classed', 'as', '``', 'mild', \"''\", '25', '.', 'Another', 'study', 'looked', 'at', 'clinical', 'characteristics', 'in', 'COVID-19', 'positively', 'tested', 'close', 'contacts', 'of', 'COVID-19', 'patients', '81', '.', 'Approximately', '30', '%', 'of', 'those', 'COVID-19', 'positive', 'close', 'contacts', 'never', 'developed', 'any', 'symptoms', 'or', 'changes', 'on', 'chest', 'CT', 'scans', '.', 'The', 'remainder', 'showed', 'changes', 'in', 'CT', ',', 'but', '~20', '%', 'reportedly', 'developed', 'symptoms', 'during', 'their', 'hospital', 'course', ',', 'none', 'of', 'them', 'developed', 'severe', 'disease', '81', '.', 'This', 'suggests', 'that', 'a', 'high', 'percentage', 'of', 'COVID-19', 'carriers', 'are', 'asymptomatic', '.', 'In', 'the', 'Chinese', 'population', ',', '55-60', '%', '%', 'of', 'COVID-19', 'patients', 'were', 'male', ';', 'the', 'median', 'age', 'has', 'been', 'reported', 'between', '47', 'and', '59', 'years', '12,93', '.', 'NB', ':', 'it', 'is', 'important', 'to', 'appreciate', 'that', 'the', 'known', 'epidemiological', 'parameters', 'of', 'any', 'new', 'disease', 'are', 'likely', 'to', 'change', 'as', 'larger', 'cohorts', 'of', 'infected', 'people', 'are', 'studied', ',', 'although', 'this', 'will', 'only', 'to', 'some', 'extent', 'reflect', 'a', 'true', 'change', 'in', 'the', 'underlying', 'reality', 'of', 'disease', 'activity', '(', 'as', 'a', 'disease', 'is', 'studied', 'and', 'understood', 'humans', 'will', 'be', 'simultaneously', 'changing', 'their', 'behaviors', 'to', 'alter', 'transmission', 'or', 'prevalence', 'patterns', 'COVID-19', 'sufferers', 'have', 'reported', 'high', 'rates', 'of', 'disturbances', 'of', 'smell', 'and', 'taste', ',', 'including', 'anosmia', ',', 'hyposmia', ',', 'ageusia', ',', 'and', 'dysgeusia', '.', 'The', 'numbers', 'of', 'patients', 'affected', 'vary', 'and', 'current', 'evidence', 'points', 'more', 'towards', 'a', 'neurological', 'than', 'a', 'conductive', 'cause', 'of', 'the', 'olfactory', 'dysfunction', '79,98,105-107,139', '.', 'Various', 'reports', 'suggest', 'patients', 'with', 'the', 'disease', 'may', 'have', 'symptoms', 'of', 'conjunctivitis', ',', 'and', 'those', 'affected', ',', 'may', 'have', 'positive', 'viral', 'PCR', 'in', 'their', 'conjunctival', 'fluid', '103,104', '.', 'However', 'a', 'meta-analysis', 'of', 'over', '1,100', 'patients', 'found', 'that', 'conjunctivitis', 'was', 'only', 'present', 'in', '1.1', '%', 'cases', '140', '.', 'A', 'small', 'case', 'series', 'found', 'conjunctivitis', 'to', 'be', 'the', 'only', 'clinical', 'manifestation', 'in', 'some', 'patients', 'with', 'COVID-19', '141', '.', 'A', 'recent', 'report', 'suggests', 'that', 'cutaneous', 'lesions', 'may', 'also', 'be', 'seen', ',', 'similar', 'to', 'many', 'other', 'viral', 'infections', '.', 'In', 'a', 'cohort', 'of', '88', 'patients', ',', '20', '%', 'developed', 'skin', 'disease', ',', 'most', 'commonly', 'an', 'erythematous', 'rash', '.', 'Most', 'of', 'the', 'skin', 'abnormalities', 'were', 'self-limited', ',', 'resolving', 'in', 'a', 'few', 'days']\n"
     ]
    }
   ],
   "source": [
    "# Tokenizing words\n",
    "words = nltk.word_tokenize(covid19)\n",
    "print(words)"
   ]
  }
 ],
 "metadata": {
  "kernelspec": {
   "display_name": "Python 3",
   "language": "python",
   "name": "python3"
  },
  "language_info": {
   "codemirror_mode": {
    "name": "ipython",
    "version": 3
   },
   "file_extension": ".py",
   "mimetype": "text/x-python",
   "name": "python",
   "nbconvert_exporter": "python",
   "pygments_lexer": "ipython3",
   "version": "3.7.6"
  }
 },
 "nbformat": 4,
 "nbformat_minor": 4
}
